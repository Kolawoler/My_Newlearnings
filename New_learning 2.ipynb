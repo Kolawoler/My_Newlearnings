{
 "cells": [
  {
   "cell_type": "code",
   "execution_count": 1,
   "id": "ddad2bbf",
   "metadata": {},
   "outputs": [],
   "source": [
    "#This program i am about to write will help to take input as student id and mark of the students, to calculate the \n",
    "#average of the scores of the students\n",
    "#I am using while loop\n",
    "\n"
   ]
  },
  {
   "cell_type": "code",
   "execution_count": 2,
   "id": "bde710e7",
   "metadata": {},
   "outputs": [],
   "source": [
    "def Students_info():\n",
    "    \n",
    "    \"this function is to return a dictionary\"\n",
    "    \n",
    "    D = {}\n",
    "    \n",
    "    while True:\n",
    "        \n",
    "        Students_id = int(input('enter students_id:'))\n",
    "        Marks_sheet = input('enter students marks seperated by comma:')\n",
    "        \n",
    "        More_Data = input('enter No to quit students entry,enter other values to continue entery')\n",
    "        \n",
    "        if Students_id in D:\n",
    "            print('students_id already exist')\n",
    "        \n",
    "                \n",
    "        \n",
    "        \n",
    "        else:\n",
    "            D[Students_id] = Marks_sheet.split(',')\n",
    "\n",
    "        if More_Data.lower() == 'no':\n",
    "\n",
    "            return D\n",
    "        \n",
    "                     "
   ]
  },
  {
   "cell_type": "code",
   "execution_count": 3,
   "id": "e0538bed",
   "metadata": {},
   "outputs": [],
   "source": [
    "#students_Data = Students_info()"
   ]
  },
  {
   "cell_type": "code",
   "execution_count": null,
   "id": "386435fc",
   "metadata": {},
   "outputs": [],
   "source": [
    "def Arg_func(D):\n",
    "    argmax={}\n",
    "    \n",
    "    for x in D:\n",
    "        L = D[x]\n",
    "        s = 0\n",
    "        for marks in L:\n",
    "            s = s + int(marks)\n",
    "            Avg_max =s//len(marks)\n",
    "        \n",
    "            argmax[x]=Avg_max\n",
    "            #sorted(argmax.items(),key = lambda x:x[0])\n",
    "    #return argmax\n",
    "            print('the average of students_id:',x,'is',argmax[x])\n",
    "#the for loops work in a function as saying, after the iteration has been done, give me the final answer by printing \n",
    "# or returning a function\n"
   ]
  },
  {
   "cell_type": "code",
   "execution_count": null,
   "id": "2614fb71",
   "metadata": {},
   "outputs": [],
   "source": [
    "#argmaxs = argmax.items()\n",
    "#sorted(argmaxs)\n",
    "sorted(argmax.items(),key = lambda x:x[0])\n",
    "       #sort(key = lambda x"
   ]
  },
  {
   "cell_type": "code",
   "execution_count": null,
   "id": "49b4c738",
   "metadata": {},
   "outputs": [],
   "source": [
    "Arg_values = Arg_func(students_Data)"
   ]
  },
  {
   "cell_type": "code",
   "execution_count": null,
   "id": "ccfaf89e",
   "metadata": {},
   "outputs": [],
   "source": [
    "F = {45: ['76', '67', '98', '100'],\n",
    " 51: ['64', '72', '81', '97'],\n",
    " 53: ['45', '67', '87', '45']}"
   ]
  },
  {
   "cell_type": "code",
   "execution_count": null,
   "id": "953aa606",
   "metadata": {},
   "outputs": [],
   "source": [
    "Arg_values"
   ]
  },
  {
   "cell_type": "code",
   "execution_count": null,
   "id": "c8d7f0e6",
   "metadata": {},
   "outputs": [],
   "source": [
    "argmax = {}"
   ]
  },
  {
   "cell_type": "code",
   "execution_count": null,
   "id": "0681dfd8",
   "metadata": {},
   "outputs": [],
   "source": [
    "for x in F:\n",
    "    L = F[x]\n",
    "    s = 0\n",
    "    for marks in L:\n",
    "        s = s + int(marks)\n",
    "        Avg_max =s/len(marks)\n",
    "    argmax[x]=Avg_max\n",
    "print(argmax)\n",
    "    "
   ]
  },
  {
   "cell_type": "code",
   "execution_count": null,
   "id": "5ab5afb4",
   "metadata": {},
   "outputs": [],
   "source": [
    "L=[]\n",
    "p=[]\n",
    "\n",
    "\n",
    "for i,j in F.items():\n",
    "#argmax[i]= sum(float(j))/len(j)\n",
    "#print('the average score of students_id :',i,'is')\n"
   ]
  },
  {
   "cell_type": "code",
   "execution_count": null,
   "id": "02f7a067",
   "metadata": {},
   "outputs": [],
   "source": [
    "L=[]\n",
    "p=[]\n",
    "\n",
    "\n",
    "for i,j in F.items():\n",
    "    p.append(j)\n",
    "print(p)"
   ]
  },
  {
   "cell_type": "code",
   "execution_count": null,
   "id": "8a2318d8",
   "metadata": {},
   "outputs": [],
   "source": [
    "#print('the average score of students_id :',i,'is'"
   ]
  },
  {
   "cell_type": "code",
   "execution_count": null,
   "id": "ae0f5f92",
   "metadata": {},
   "outputs": [],
   "source": [
    "type(p[0])"
   ]
  },
  {
   "cell_type": "code",
   "execution_count": null,
   "id": "70a42bfb",
   "metadata": {},
   "outputs": [],
   "source": [
    "List_3 = [[23,20,23],[324,34,45,5],[23,2,34]]"
   ]
  },
  {
   "cell_type": "code",
   "execution_count": null,
   "id": "236884e5",
   "metadata": {},
   "outputs": [],
   "source": [
    "List_3\n",
    "list_4 = []"
   ]
  },
  {
   "cell_type": "code",
   "execution_count": null,
   "id": "40b9643b",
   "metadata": {},
   "outputs": [],
   "source": [
    "List_3"
   ]
  },
  {
   "cell_type": "code",
   "execution_count": null,
   "id": "8162358a",
   "metadata": {},
   "outputs": [],
   "source": [
    "List_3\n"
   ]
  },
  {
   "cell_type": "code",
   "execution_count": null,
   "id": "a4722210",
   "metadata": {},
   "outputs": [],
   "source": [
    "list_2 = ['Ade','Gbenga','Tayo']"
   ]
  },
  {
   "cell_type": "code",
   "execution_count": null,
   "id": "3266bf7f",
   "metadata": {},
   "outputs": [],
   "source": [
    "list_4"
   ]
  },
  {
   "cell_type": "code",
   "execution_count": null,
   "id": "82a430cb",
   "metadata": {},
   "outputs": [],
   "source": []
  },
  {
   "cell_type": "code",
   "execution_count": null,
   "id": "b7356ab1",
   "metadata": {},
   "outputs": [],
   "source": [
    "Dimp = {}\n",
    "for j in List_3:\n",
    "    B_n = j\n",
    "    sum_ = 0\n",
    "    for k in B_n:\n",
    "        sum_=sum_ + k\n",
    "        Average = sum_/len(B_n)\n",
    "    list_4.append(Average)\n",
    "for i,j in zip(list_2,list_4):\n",
    "    Dimp[i]=j\n",
    "    print('the Average score of',i,'is',Dimp[i] )\n",
    "    \n",
    "    \n",
    "        \n",
    "        \n",
    "        "
   ]
  },
  {
   "cell_type": "code",
   "execution_count": null,
   "id": "61b259a5",
   "metadata": {},
   "outputs": [],
   "source": [
    "#program to take many inputs at the same time\n"
   ]
  },
  {
   "cell_type": "code",
   "execution_count": null,
   "id": "b46b1e8f",
   "metadata": {},
   "outputs": [],
   "source": [
    "#program to take many inputs at the same time\n",
    "# and to return the average value of the name entered\n",
    "\n",
    "D = {}\n",
    "timp_name = []\n",
    "timp_Avg = []\n",
    "for _ in range(int(input())):\n",
    "    \n",
    "    info_ = [input('please enter the values in the format BME,SCORE,SCORES,....,no space in the last entry of the input :' )]\n",
    "   \n",
    "    \n",
    "    for i in info_:\n",
    "    \n",
    "        timp = i.split(\" \")\n",
    "        timp_name.append(timp[0])\n",
    "        value_score = timp[1:]\n",
    "        sum = 0\n",
    "        for x in value_score:\n",
    "            sum = sum + int(x)\n",
    "            avg = sum//len(value_score)\n",
    "        timp_Avg.append(avg)\n",
    "  \n",
    "    for i,j in zip(timp_name,timp_Avg):\n",
    "        D[i]=j        \n",
    "check_ma = input('which name are you checking:')\n",
    "if check_ma in D:\n",
    "    print(' the average score of',check_ma,'is',D[check_ma])      \n",
    "else:\n",
    "    print('the name is not in the current index')\n",
    "  "
   ]
  },
  {
   "cell_type": "code",
   "execution_count": null,
   "id": "cb29e057",
   "metadata": {},
   "outputs": [],
   "source": [
    "n = int(input())\n",
    "student_marks = {}\n",
    "for _ in range(n):\n",
    "    name, *line = input().split()\n",
    "    scores = list(map(float, line))\n",
    "    sum = 0\n",
    "    for i in scores:\n",
    "        sum = sum + i\n",
    "        Avg = sum/len(scores)\n",
    "    student_marks[name] = Avg\n",
    "query_name = input()\n",
    "if query_name in student_marks:\n",
    "    print(student_marks[query_name])\n",
    "        "
   ]
  },
  {
   "cell_type": "code",
   "execution_count": null,
   "id": "bf2fb9f8",
   "metadata": {},
   "outputs": [],
   "source": [
    "A = (456 +98 +87 +56)"
   ]
  },
  {
   "cell_type": "code",
   "execution_count": null,
   "id": "76ba1fd9",
   "metadata": {},
   "outputs": [],
   "source": [
    "#print(\"%.3f\"% A)"
   ]
  },
  {
   "cell_type": "code",
   "execution_count": null,
   "id": "a510b864",
   "metadata": {},
   "outputs": [],
   "source": [
    "float(23)/3"
   ]
  },
  {
   "cell_type": "code",
   "execution_count": null,
   "id": "366860a3",
   "metadata": {},
   "outputs": [],
   "source": [
    "list_2 = 45"
   ]
  },
  {
   "cell_type": "code",
   "execution_count": null,
   "id": "879e340e",
   "metadata": {},
   "outputs": [],
   "source": [
    "if __name__ == '__main__':\n",
    "    n = int(input())\n",
    "    student_marks = {}\n",
    "    for _ in range(n):\n",
    "        name, *line = input().split()\n",
    "        scores = list(map(float, line))\n",
    "        sum = 0\n",
    "        for i in scores:\n",
    "            sum = sum + i\n",
    "            Avg = round(sum/len(scores),2)\n",
    "        student_marks[name] = Avg\n",
    "    query_name = input()\n",
    "    if query_name in student_marks:\n",
    "        print(student_marks[query_name])\n",
    "        \n",
    "        "
   ]
  },
  {
   "cell_type": "code",
   "execution_count": null,
   "id": "0869a236",
   "metadata": {},
   "outputs": [],
   "source": [
    "from collections import Counter"
   ]
  },
  {
   "cell_type": "code",
   "execution_count": null,
   "id": "806c0971",
   "metadata": {},
   "outputs": [],
   "source": [
    " (34 +54 +45+ 45+ 45+ 45+ 23+ 67+ 78+ 56+ 45)//11"
   ]
  },
  {
   "cell_type": "code",
   "execution_count": null,
   "id": "075f4ef2",
   "metadata": {},
   "outputs": [],
   "source": [
    "timp_Avg"
   ]
  },
  {
   "cell_type": "code",
   "execution_count": null,
   "id": "a52a2a94",
   "metadata": {},
   "outputs": [],
   "source": [
    "len(A)"
   ]
  },
  {
   "cell_type": "code",
   "execution_count": null,
   "id": "981bdf4f",
   "metadata": {},
   "outputs": [],
   "source": [
    "sum = 0\n",
    "for i in A:\n",
    "    sum = sum + int(i) \n",
    "print(sum)\n",
    "    "
   ]
  },
  {
   "cell_type": "code",
   "execution_count": null,
   "id": "dfa54630",
   "metadata": {},
   "outputs": [],
   "source": [
    "check_ma in timp_name"
   ]
  },
  {
   "cell_type": "code",
   "execution_count": null,
   "id": "493f2e25",
   "metadata": {},
   "outputs": [],
   "source": [
    "timp_name"
   ]
  },
  {
   "cell_type": "code",
   "execution_count": null,
   "id": "c8b66faa",
   "metadata": {},
   "outputs": [],
   "source": [
    "type(timp_name[0])"
   ]
  },
  {
   "cell_type": "code",
   "execution_count": null,
   "id": "06bceb79",
   "metadata": {},
   "outputs": [],
   "source": [
    "timp_name"
   ]
  },
  {
   "cell_type": "code",
   "execution_count": null,
   "id": "187b68e1",
   "metadata": {},
   "outputs": [],
   "source": [
    "for i in info_:\n",
    "    timp = i.split(\" \")\n",
    "    timp_name = [timp[0]]\n",
    "timp_name   \n",
    "    "
   ]
  },
  {
   "cell_type": "code",
   "execution_count": null,
   "id": "e56f97b0",
   "metadata": {},
   "outputs": [],
   "source": [
    "timp"
   ]
  },
  {
   "cell_type": "code",
   "execution_count": null,
   "id": "349daf12",
   "metadata": {},
   "outputs": [],
   "source": [
    "timp_name"
   ]
  },
  {
   "cell_type": "code",
   "execution_count": null,
   "id": "25b3adb4",
   "metadata": {},
   "outputs": [],
   "source": [
    "list_1 = [2,3,2,4,4,5,2,5,4,1]\n",
    "from collections import Counter"
   ]
  },
  {
   "cell_type": "code",
   "execution_count": null,
   "id": "3c0d2441",
   "metadata": {},
   "outputs": [],
   "source": [
    "D = {}\n",
    "for i in list_1:\n",
    "    D[i]=list_1.count(i)"
   ]
  },
  {
   "cell_type": "code",
   "execution_count": null,
   "id": "0ba91317",
   "metadata": {},
   "outputs": [],
   "source": [
    "dict(sorted(D.items(),key = lambda x:x[0],reverse = False))"
   ]
  },
  {
   "cell_type": "code",
   "execution_count": null,
   "id": "ef8535fc",
   "metadata": {},
   "outputs": [],
   "source": [
    "Counter(list_1)"
   ]
  },
  {
   "cell_type": "code",
   "execution_count": null,
   "id": "a58e2b50",
   "metadata": {},
   "outputs": [],
   "source": [
    "# I need to write programs that will give me the no of commands to enter and it will input all this commands in "
   ]
  },
  {
   "cell_type": "code",
   "execution_count": null,
   "id": "d8dec4b3",
   "metadata": {},
   "outputs": [],
   "source": [
    "list_1 = []"
   ]
  },
  {
   "cell_type": "code",
   "execution_count": null,
   "id": "70010c72",
   "metadata": {},
   "outputs": [],
   "source": [
    "for _ in range(int(input())):\n",
    "    for i in list_1:\n",
    "        \n",
    "        \n",
    "   \n",
    "        Name_of_command1 =list_1.(input('what is the first command?: '))\n",
    "        \n",
    "  \n",
    "  \n",
    "    \n"
   ]
  },
  {
   "cell_type": "code",
   "execution_count": null,
   "id": "05be36be",
   "metadata": {},
   "outputs": [],
   "source": [
    "tex = 'jnkfkdff'"
   ]
  },
  {
   "cell_type": "code",
   "execution_count": null,
   "id": "2f00b70f",
   "metadata": {},
   "outputs": [],
   "source": [
    "tex.split?"
   ]
  },
  {
   "cell_type": "code",
   "execution_count": null,
   "id": "86f91dae",
   "metadata": {},
   "outputs": [],
   "source": [
    "list_1.insert(2,0)"
   ]
  },
  {
   "cell_type": "code",
   "execution_count": null,
   "id": "d59dce8c",
   "metadata": {},
   "outputs": [],
   "source": [
    "list_1"
   ]
  },
  {
   "cell_type": "code",
   "execution_count": null,
   "id": "7a9bd44d",
   "metadata": {},
   "outputs": [],
   "source": [
    "#this program helps to perform many inputs in python, the input saved with variable user_input takes a string \n",
    "#convert split it and then the if loop is used to check for the type of lists method.\n",
    "List_1 = []\n",
    "for _ in range(int(input())):\n",
    "    \n",
    "    user_input = input().strip().split(sep =None)\n",
    "    if user_input[0] == 'insert':\n",
    "        List_1.insert(int(user_input[1]),int(user_input[2]))\n",
    "    elif user_input[0] == 'append':\n",
    "        List_1.append(int(user_input[1]))\n",
    "    elif user_input[0]=='print':\n",
    "            print(List_1)\n",
    "    elif user_input[0] == 'remove':\n",
    "        List_1.remove(int(user_input[1]))\n",
    "    elif user_input[0] == 'pop':\n",
    "        List_1.pop()\n",
    "    elif user_input[0] == 'reverse':\n",
    "        List_1.reverse()\n",
    "    elif user_input[0] == 'sort':\n",
    "        List_1.sort()\n",
    "        \n",
    "        #the result of the inputs can be find below,this has been run and tested,it is working out fine\n",
    "        \n",
    "        \n",
    "            \n",
    "            "
   ]
  },
  {
   "cell_type": "code",
   "execution_count": null,
   "id": "68f337bc",
   "metadata": {},
   "outputs": [],
   "source": [
    "12\n",
    "insert 0 5\n",
    "insert 1 10\n",
    "insert 0 6\n",
    "print\n",
    "remove 6\n",
    "append 9\n",
    "append 1\n",
    "sort\n",
    "print\n",
    "pop\n",
    "reverse\n",
    "print"
   ]
  },
  {
   "cell_type": "code",
   "execution_count": null,
   "id": "fddfe5d2",
   "metadata": {},
   "outputs": [],
   "source": [
    "#text_2 = 'let the earth proclaim that christ is lord'"
   ]
  },
  {
   "cell_type": "code",
   "execution_count": null,
   "id": "34aafbb6",
   "metadata": {},
   "outputs": [],
   "source": [
    "#text_3 = text_1 + (text_2)"
   ]
  },
  {
   "cell_type": "code",
   "execution_count": null,
   "id": "7d8989a0",
   "metadata": {},
   "outputs": [],
   "source": [
    "list_1 =[]"
   ]
  },
  {
   "cell_type": "code",
   "execution_count": null,
   "id": "4ec121c8",
   "metadata": {},
   "outputs": [],
   "source": [
    "listr_1 = [2,4,5,10,12]"
   ]
  },
  {
   "cell_type": "code",
   "execution_count": null,
   "id": "b3d2929d",
   "metadata": {},
   "outputs": [],
   "source": [
    "List_2 = [23,45,56,78,3,2]"
   ]
  },
  {
   "cell_type": "code",
   "execution_count": null,
   "id": "25dc76db",
   "metadata": {},
   "outputs": [],
   "source": [
    "texT_1 = input('please which of the list do u wanna add? :')\n",
    "    "
   ]
  },
  {
   "cell_type": "code",
   "execution_count": null,
   "id": "a129d2bc",
   "metadata": {},
   "outputs": [],
   "source": [
    "#\"(\"+\",.join(args))\""
   ]
  },
  {
   "cell_type": "code",
   "execution_count": null,
   "id": "fe6f3234",
   "metadata": {},
   "outputs": [],
   "source": [
    "ibk_1 = input('How old are you ibk:')\n",
    "if ibk_1 > '23':\n",
    "    print('ibk, you are old o, imagine your age is',ibk_1)\n",
    "elif int(ibk_1) < 23 and int(ibk_1) > 20:\n",
    "    \n",
    "    print('you are still a baby')\n",
    "\n",
    "elif ibk_1 =='19':\n",
    "    Ibk_married_yr = int(ibk_1) + 10\n",
    "    print(\"ibk_1 will be getting married in\",Ibk_married_yr,\"years\")\n"
   ]
  },
  {
   "cell_type": "code",
   "execution_count": null,
   "id": "96b99279",
   "metadata": {},
   "outputs": [],
   "source": [
    " n = int(input())\n",
    "for _ in range(n):\n",
    "    integer_list = map(int, input().split())\n",
    "    t = tuple(integer_list)\n",
    "    print(hash(t))\n",
    "        "
   ]
  },
  {
   "cell_type": "code",
   "execution_count": null,
   "id": "505badff",
   "metadata": {},
   "outputs": [],
   "source": []
  },
  {
   "cell_type": "code",
   "execution_count": null,
   "id": "9ea76f50",
   "metadata": {},
   "outputs": [],
   "source": [
    " n = int(input())\n",
    "for _ in range(n):\n",
    "    integer_list = map(int, input().split())\n",
    "    t = tuple(integer_list)\n",
    "    print(hash(t))\n",
    "        "
   ]
  },
  {
   "cell_type": "code",
   "execution_count": null,
   "id": "3ecfc27e",
   "metadata": {},
   "outputs": [],
   "source": [
    "first_name = input()\n",
    "last_name = input()\n",
    "print(\"hello\",first_name,last_name+\"!\" \"you just delved into python\")"
   ]
  },
  {
   "cell_type": "code",
   "execution_count": null,
   "id": "e222d08f",
   "metadata": {},
   "outputs": [],
   "source": [
    "print(f\"Hello {first_name} {last_name}! You just delved into python.\")"
   ]
  },
  {
   "cell_type": "code",
   "execution_count": null,
   "id": "57e97018",
   "metadata": {},
   "outputs": [],
   "source": [
    "nim = 'when' ,first_name"
   ]
  },
  {
   "cell_type": "code",
   "execution_count": null,
   "id": "7a9adbfa",
   "metadata": {},
   "outputs": [],
   "source": [
    "str(nim)"
   ]
  },
  {
   "cell_type": "code",
   "execution_count": null,
   "id": "0da05eb1",
   "metadata": {},
   "outputs": [],
   "source": [
    "print(f\" hello,{first_name} {last_name}! you just delved into python\")"
   ]
  },
  {
   "cell_type": "code",
   "execution_count": null,
   "id": "a8c9e15e",
   "metadata": {},
   "outputs": [],
   "source": [
    "sample_tupple = []\n",
    "for _ in range(int(input())):\n",
    "    \n",
    "    sample_tupple.append(str(input()))\n",
    "                         \n"
   ]
  },
  {
   "cell_type": "code",
   "execution_count": null,
   "id": "ffd6d111",
   "metadata": {},
   "outputs": [],
   "source": [
    "hash(tuple(sample_tupple))"
   ]
  },
  {
   "cell_type": "code",
   "execution_count": null,
   "id": "a7fc777f",
   "metadata": {},
   "outputs": [],
   "source": [
    "print(map(int,sample_tupple))"
   ]
  },
  {
   "cell_type": "code",
   "execution_count": null,
   "id": "5c52aad9",
   "metadata": {},
   "outputs": [],
   "source": [
    "tuple(str(sample_tupple).strip().split())"
   ]
  },
  {
   "cell_type": "code",
   "execution_count": null,
   "id": "0989db9a",
   "metadata": {},
   "outputs": [],
   "source": [
    "hash(tuple(str(list_num)))"
   ]
  },
  {
   "cell_type": "code",
   "execution_count": null,
   "id": "5b63a3b5",
   "metadata": {},
   "outputs": [],
   "source": [
    "for _ in range(len(input())):\n",
    "    output = map(int,input())\n",
    "    "
   ]
  },
  {
   "cell_type": "code",
   "execution_count": null,
   "id": "77006020",
   "metadata": {},
   "outputs": [],
   "source": [
    "bump = [2*i for i in range(10)]"
   ]
  },
  {
   "cell_type": "code",
   "execution_count": null,
   "id": "331ba4ea",
   "metadata": {},
   "outputs": [],
   "source": [
    "bump"
   ]
  },
  {
   "cell_type": "code",
   "execution_count": null,
   "id": "5df516ad",
   "metadata": {},
   "outputs": [],
   "source": [
    "list_2 = []\n",
    "for _ in range(int(input())):\n",
    "    bump= input().split()\n",
    "    bumps = list(map(int,bump))\n",
    "    \n",
    "    list_2.append(bumps)\n",
    "\n",
    "\n",
    "    \n",
    " \n",
    "        "
   ]
  },
  {
   "cell_type": "code",
   "execution_count": null,
   "id": "d89942df",
   "metadata": {},
   "outputs": [],
   "source": [
    "list_2"
   ]
  },
  {
   "cell_type": "code",
   "execution_count": null,
   "id": "a071ae1d",
   "metadata": {},
   "outputs": [],
   "source": [
    "k = []\n",
    "kimpe_ = ['3564','45','67','65','567']"
   ]
  },
  {
   "cell_type": "code",
   "execution_count": null,
   "id": "dae1700a",
   "metadata": {},
   "outputs": [],
   "source": [
    "output = '1 2'.strip().split()"
   ]
  },
  {
   "cell_type": "code",
   "execution_count": null,
   "id": "8908abde",
   "metadata": {},
   "outputs": [],
   "source": [
    "outsss= tuple(map(int,output))"
   ]
  },
  {
   "cell_type": "code",
   "execution_count": null,
   "id": "2f17c733",
   "metadata": {},
   "outputs": [],
   "source": [
    "n = int(input())\n",
    "integer_list =tuple(map(int,input().strip().split()))\n",
    "        \n",
    "print(hash(integer_list))\n",
    "        \n",
    "    "
   ]
  },
  {
   "cell_type": "code",
   "execution_count": null,
   "id": "41c79537",
   "metadata": {},
   "outputs": [],
   "source": [
    "for _ in range(int(input())):\n",
    "    print (_, end = \" \")\n",
    "for _ in range(int(input())):\n",
    "    \n",
    "    output = input().split(sep = None)\n",
    "    if output[0] =='print':\n",
    "        print(list_2)\n",
    "    elif output[0]=='append':\n",
    "        list_2.append(int(output[1]))\n",
    "    elif output[0] == 'remove' and int(output[1]) not in list_2:\n",
    "        break\n",
    "    elif output[0] == 'remove' and int(output[1]) in list_2:\n",
    "        list_2.remove(int(output[1]))\n",
    "print(list_2)   \n",
    "    \n",
    "    \n",
    "    \n",
    "        \n",
    "    \n",
    "    "
   ]
  },
  {
   "cell_type": "code",
   "execution_count": null,
   "id": "9690b493",
   "metadata": {},
   "outputs": [],
   "source": [
    "for _ in range(int(input())):\n",
    "    print(_, end = \" \")"
   ]
  },
  {
   "cell_type": "code",
   "execution_count": null,
   "id": "1be5a2e3",
   "metadata": {},
   "outputs": [],
   "source": [
    "for i in range(20):\n",
    "    print(i,end =\" \")"
   ]
  },
  {
   "cell_type": "code",
   "execution_count": 8,
   "id": "4bbd42ea",
   "metadata": {},
   "outputs": [],
   "source": [
    "text ='ABCDCDC'"
   ]
  },
  {
   "cell_type": "code",
   "execution_count": 10,
   "id": "3b829af4",
   "metadata": {},
   "outputs": [
    {
     "data": {
      "text/plain": [
       "2"
      ]
     },
     "execution_count": 10,
     "metadata": {},
     "output_type": "execute_result"
    }
   ],
   "source": [
    "text.count('CD')"
   ]
  },
  {
   "cell_type": "code",
   "execution_count": 19,
   "id": "64d4dd19",
   "metadata": {},
   "outputs": [],
   "source": [
    "def count_substring(string, sub_string):\n",
    "    return string.count(sub_string)\n"
   ]
  },
  {
   "cell_type": "code",
   "execution_count": null,
   "id": "94b0246c",
   "metadata": {},
   "outputs": [],
   "source": []
  },
  {
   "cell_type": "code",
   "execution_count": 20,
   "id": "a55aff74",
   "metadata": {},
   "outputs": [
    {
     "name": "stdout",
     "output_type": "stream",
     "text": [
      "ABCDCDC\n",
      "CDC\n"
     ]
    }
   ],
   "source": [
    "string = input().strip()\n",
    "sub_string = input().strip()"
   ]
  },
  {
   "cell_type": "code",
   "execution_count": 21,
   "id": "40c75c29",
   "metadata": {},
   "outputs": [
    {
     "data": {
      "text/plain": [
       "1"
      ]
     },
     "execution_count": 21,
     "metadata": {},
     "output_type": "execute_result"
    }
   ],
   "source": [
    "count_substring(string, sub_string)"
   ]
  },
  {
   "cell_type": "code",
   "execution_count": null,
   "id": "33bc4112",
   "metadata": {},
   "outputs": [],
   "source": [
    "#in this code, I am define a class object named iphone and try to define some of its attributes, I created the instances\n",
    "# of the class iphone iphone_11_max with a special type of attributes\n",
    "# from my observation, the class object iphone needs to be created as a bluebrint for other type of iphones that will be produced\n",
    "#the class object is a user_built function\n",
    "class iphone:\n",
    "    \n",
    "    \"trying to define the blueprint of iphone and using the special instance type  of iphone 10 max\" \n",
    "    \"when accessing the class object, ensure you use .__class___. method to access it\"\n",
    "    #whe\n",
    "    \n",
    "    type = 'iphone 10 max'\n",
    "    bimp = 24700,45\n",
    "    def __init__(self,camera,software_update):\n",
    "        self.camera = camera\n",
    "        self.software_update = software_update\n",
    "        \n",
    "      \n",
    "    #Note, when defining the attributes of iphone(using __init__) method, it is possible the iphone uses \n",
    "    #alot of attributes when definning it.\n",
    "    \n",
    "    # we define two methods in the program above, methods helps you to access functionalities of the iphone type created\n",
    "    def Sarri_func(self,sarri_check):\n",
    "        print('pls sarri, can you help play the song by',sarri_check)\n",
    "        \n",
    "    def weather_check(self,weather):\n",
    "        return \"the weather currently is\",weather\n",
    "    \n",
    "iphone_11_max = iphone(\"led_camera\",\"software_10\")\n",
    "    "
   ]
  },
  {
   "cell_type": "code",
   "execution_count": 31,
   "id": "575be3cc",
   "metadata": {},
   "outputs": [
    {
     "name": "stdout",
     "output_type": "stream",
     "text": [
      "iphone_11 max uses camera type :led_camera and the recent ios update of : software_10, this makes it suitable fornew users to work with\n"
     ]
    }
   ],
   "source": [
    "print(f\"iphone_11 max uses camera type :{iphone_11_max.camera} and the recent ios update of : {iphone_11_max.software_update}, this makes it suitable for\"\n",
    "\"new users to work with\")"
   ]
  },
  {
   "cell_type": "code",
   "execution_count": 35,
   "id": "f2e89d32",
   "metadata": {},
   "outputs": [
    {
     "name": "stdout",
     "output_type": "stream",
     "text": [
      "the type of iphone  we are working on is iphone 10 max\n"
     ]
    }
   ],
   "source": [
    "#print('the type of iphone  we are working on is {}'.format(iphone_11_max.__class__.type))"
   ]
  },
  {
   "cell_type": "code",
   "execution_count": 54,
   "id": "82486739",
   "metadata": {},
   "outputs": [],
   "source": [
    "#rint('the iphone type we are building is',iphone_11_max.camera)"
   ]
  },
  {
   "cell_type": "code",
   "execution_count": 53,
   "id": "c1c61df4",
   "metadata": {},
   "outputs": [],
   "source": [
    "#iphone_11_max.software_update"
   ]
  },
  {
   "cell_type": "code",
   "execution_count": 52,
   "id": "cdfa9089",
   "metadata": {},
   "outputs": [],
   "source": [
    "#iphone_11_max.__class__.type,iphone_11_max.__class__.bimp"
   ]
  },
  {
   "cell_type": "code",
   "execution_count": 75,
   "id": "2f965db0",
   "metadata": {},
   "outputs": [
    {
     "data": {
      "text/plain": [
       "('the weather currently is', '30F')"
      ]
     },
     "execution_count": 75,
     "metadata": {},
     "output_type": "execute_result"
    }
   ],
   "source": [
    "iphone_11_max.weather_check(\"30F\")"
   ]
  },
  {
   "cell_type": "code",
   "execution_count": 80,
   "id": "9041871b",
   "metadata": {},
   "outputs": [
    {
     "name": "stdout",
     "output_type": "stream",
     "text": [
      "pls sarri, can you help play the song by Nathaniel_bassey\n"
     ]
    }
   ],
   "source": [
    "iphone_11_max.Sarri_func('Nathaniel_bassey')"
   ]
  },
  {
   "cell_type": "code",
   "execution_count": null,
   "id": "b1d34d13",
   "metadata": {},
   "outputs": [],
   "source": [
    ",camera,software_update"
   ]
  },
  {
   "cell_type": "code",
   "execution_count": 50,
   "id": "bbd90544",
   "metadata": {},
   "outputs": [],
   "source": [
    "#Child class\n",
    "class iphone_new_gen(iphone):\n",
    "    \n",
    "    def __init__(camera,software_update):\n",
    "        \n",
    "        super().__init__(camera,software_update)\n",
    "        print('this is a new class defined under parent class')\n",
    "        \n",
    "    def new_func(self):\n",
    "        print('Hello God, you boy is here again')\n",
    "        \n",
    "    def kimpe(self):\n",
    "        return \"Jesus has come to save us\"\n",
    "        \n",
    "        \n",
    "        "
   ]
  },
  {
   "cell_type": "code",
   "execution_count": null,
   "id": "1d3f6f53",
   "metadata": {},
   "outputs": [],
   "source": [
    "# the self keyword triggers the methods of the instance from the object class"
   ]
  },
  {
   "cell_type": "code",
   "execution_count": 58,
   "id": "ca2ca994",
   "metadata": {},
   "outputs": [],
   "source": [
    "#Data Encapsulation--we can restrict the access to methods and variables.This prevents data from direct modification"
   ]
  },
  {
   "cell_type": "code",
   "execution_count": 53,
   "id": "7b4d69f1",
   "metadata": {},
   "outputs": [
    {
     "name": "stdout",
     "output_type": "stream",
     "text": [
      "this is a new class defined under parent class\n"
     ]
    }
   ],
   "source": [
    "iphonbe_13 = iphone_new_gen('camp')"
   ]
  },
  {
   "cell_type": "code",
   "execution_count": 54,
   "id": "9b3c7163",
   "metadata": {},
   "outputs": [
    {
     "name": "stdout",
     "output_type": "stream",
     "text": [
      "pls sarri, can you help play the song by bimsx\n"
     ]
    }
   ],
   "source": [
    "iphonbe_13.Sarri_func('bimsx')"
   ]
  },
  {
   "cell_type": "code",
   "execution_count": 55,
   "id": "be6b29fc",
   "metadata": {},
   "outputs": [
    {
     "name": "stdout",
     "output_type": "stream",
     "text": [
      "Hello God, you boy is here again\n"
     ]
    }
   ],
   "source": [
    "iphonbe_13.new_func()"
   ]
  },
  {
   "cell_type": "code",
   "execution_count": null,
   "id": "603df260",
   "metadata": {},
   "outputs": [],
   "source": [
    "#2 things to do today:\n",
    "# to work on classes functions\n"
   ]
  },
  {
   "cell_type": "code",
   "execution_count": 25,
   "id": "e62486f4",
   "metadata": {},
   "outputs": [],
   "source": [
    "import numpy"
   ]
  },
  {
   "cell_type": "code",
   "execution_count": 28,
   "id": "d814f4d9",
   "metadata": {},
   "outputs": [],
   "source": [
    "A = numpy.array([[2,3,4,5],[3,3,5,6]])"
   ]
  },
  {
   "cell_type": "code",
   "execution_count": 34,
   "id": "bdc1fcab",
   "metadata": {},
   "outputs": [
    {
     "data": {
      "text/plain": [
       "array([3, 4])"
      ]
     },
     "execution_count": 34,
     "metadata": {},
     "output_type": "execute_result"
    }
   ],
   "source": [
    "A.mean(axis = 1,dtype = int)"
   ]
  },
  {
   "cell_type": "code",
   "execution_count": 33,
   "id": "6734d99b",
   "metadata": {},
   "outputs": [
    {
     "data": {
      "text/plain": [
       "(2, 4)"
      ]
     },
     "execution_count": 33,
     "metadata": {},
     "output_type": "execute_result"
    }
   ],
   "source": [
    "A.shape"
   ]
  },
  {
   "cell_type": "code",
   "execution_count": 43,
   "id": "7165e048",
   "metadata": {},
   "outputs": [
    {
     "name": "stdout",
     "output_type": "stream",
     "text": [
      "[2 3 4 5]\n",
      "[3 3 5 6]\n"
     ]
    }
   ],
   "source": [
    "for i in A:\n",
    "    print(i)"
   ]
  },
  {
   "cell_type": "code",
   "execution_count": 59,
   "id": "7e9120fe",
   "metadata": {},
   "outputs": [],
   "source": [
    "#trying to define a class that stores the value of prices of goods\n",
    "#we want an output that always spills out anytime the price us above 1000"
   ]
  },
  {
   "cell_type": "code",
   "execution_count": 184,
   "id": "d1e46a2c",
   "metadata": {},
   "outputs": [],
   "source": [
    "class Computer:\n",
    "    \n",
    "    pass\n",
    "    \n",
    "\n",
    "    \n",
    "    def __init__(self):\n",
    "        \n",
    "        self.__Maxprice = 1000\n",
    "        \n",
    "    def Sell(self):\n",
    "        print('the selling price is now : {}'.format(self.__Maxprice))\n",
    "       \n",
    "    \n",
    "    def Set_price(self,price):\n",
    "        self.__Maxprice = price\n",
    "        \n",
    "        "
   ]
  },
  {
   "cell_type": "code",
   "execution_count": 196,
   "id": "6636e008",
   "metadata": {},
   "outputs": [],
   "source": [
    "# when you need to  modify the attributes, you can define a methode that can do so, in the above codes ,\n",
    "#The Set_price did a nice Job in doing that"
   ]
  },
  {
   "cell_type": "code",
   "execution_count": 204,
   "id": "c9e5f476",
   "metadata": {},
   "outputs": [],
   "source": [
    "class Parrot:\n",
    "    \n",
    "    def fly(self):\n",
    "        print('the parrot does fly')\n",
    "        \n",
    "    def sing(self):\n",
    "        print(\"can it sing also?\")\n",
    "        \n",
    "class Pengui:\n",
    "    \n",
    "    def fly(self):\n",
    "        print('the penguins cant fly')\n",
    "        \n",
    "    def hungry(self):\n",
    "        print('is the pengui hungry sometimes')\n",
    "        \n",
    "def fly_test(bird):\n",
    "    return bird.fly()\n",
    "\n",
    "#The above function is called polymorphism, it allows two different classes to return the same fly method"
   ]
  },
  {
   "cell_type": "code",
   "execution_count": 205,
   "id": "42257019",
   "metadata": {},
   "outputs": [],
   "source": [
    "Bug = Parrot()\n",
    "pimgun = Pengui()"
   ]
  },
  {
   "cell_type": "code",
   "execution_count": 206,
   "id": "4224e825",
   "metadata": {},
   "outputs": [
    {
     "name": "stdout",
     "output_type": "stream",
     "text": [
      "the parrot does fly\n",
      "the penguins cant fly\n"
     ]
    }
   ],
   "source": [
    "jimp,simpu = fly_test(Bug),fly_test(pimgun)"
   ]
  },
  {
   "cell_type": "code",
   "execution_count": 207,
   "id": "b6ccf7df",
   "metadata": {},
   "outputs": [],
   "source": [
    "D = {'jimp': 200,'sdhbjsd':'sdbh'}"
   ]
  },
  {
   "cell_type": "code",
   "execution_count": 209,
   "id": "78963439",
   "metadata": {},
   "outputs": [],
   "source": [
    "D.setdefault('puppsy')"
   ]
  },
  {
   "cell_type": "code",
   "execution_count": 210,
   "id": "49975a39",
   "metadata": {},
   "outputs": [
    {
     "data": {
      "text/plain": [
       "{'jimp': 200, 'sdhbjsd': 'sdbh', 'puppsy': None}"
      ]
     },
     "execution_count": 210,
     "metadata": {},
     "output_type": "execute_result"
    }
   ],
   "source": [
    "D"
   ]
  },
  {
   "cell_type": "code",
   "execution_count": 213,
   "id": "b1fc971c",
   "metadata": {},
   "outputs": [],
   "source": [
    "k = [x for x in D]"
   ]
  },
  {
   "cell_type": "code",
   "execution_count": 216,
   "id": "0c44242a",
   "metadata": {},
   "outputs": [
    {
     "data": {
      "text/plain": [
       "'puppsy'"
      ]
     },
     "execution_count": 216,
     "metadata": {},
     "output_type": "execute_result"
    }
   ],
   "source": [
    "k.pop()"
   ]
  },
  {
   "cell_type": "code",
   "execution_count": 217,
   "id": "6a1ff929",
   "metadata": {},
   "outputs": [
    {
     "data": {
      "text/plain": [
       "['jimp', 'sdhbjsd']"
      ]
     },
     "execution_count": 217,
     "metadata": {},
     "output_type": "execute_result"
    }
   ],
   "source": [
    "k"
   ]
  },
  {
   "cell_type": "code",
   "execution_count": 220,
   "id": "7223c17f",
   "metadata": {},
   "outputs": [],
   "source": [
    "A = 2 + 3 == 4"
   ]
  },
  {
   "cell_type": "code",
   "execution_count": 224,
   "id": "c4f1a60a",
   "metadata": {},
   "outputs": [],
   "source": [
    "list_1 = [[4],[45],[67]]"
   ]
  },
  {
   "cell_type": "code",
   "execution_count": 228,
   "id": "e22fa021",
   "metadata": {},
   "outputs": [
    {
     "data": {
      "text/plain": [
       "'[4][45][67]'"
      ]
     },
     "execution_count": 228,
     "metadata": {},
     "output_type": "execute_result"
    }
   ],
   "source": [
    "''.join(list(map(str,list_1)))"
   ]
  },
  {
   "cell_type": "code",
   "execution_count": 236,
   "id": "2290921f",
   "metadata": {},
   "outputs": [],
   "source": [
    "tim = 'shdbsd'"
   ]
  },
  {
   "cell_type": "code",
   "execution_count": 247,
   "id": "0cc92593",
   "metadata": {},
   "outputs": [
    {
     "name": "stdout",
     "output_type": "stream",
     "text": [
      "**shdbsd**\n"
     ]
    }
   ],
   "source": [
    "print('**',tim.center(5),'**',sep= '')"
   ]
  },
  {
   "cell_type": "code",
   "execution_count": 239,
   "id": "e419e114",
   "metadata": {},
   "outputs": [
    {
     "data": {
      "text/plain": [
       "6"
      ]
     },
     "execution_count": 239,
     "metadata": {},
     "output_type": "execute_result"
    }
   ],
   "source": [
    "len('shdbsd')"
   ]
  },
  {
   "cell_type": "code",
   "execution_count": 251,
   "id": "33ae77bb",
   "metadata": {},
   "outputs": [
    {
     "name": "stdout",
     "output_type": "stream",
     "text": [
      "please enter your password here:Rotimi Kolawole\n",
      "**Rotimi Kolawole**\n"
     ]
    }
   ],
   "source": [
    "password = input('please enter your password here:')\n",
    "print('**',password,'**',sep ='')"
   ]
  },
  {
   "cell_type": "code",
   "execution_count": 262,
   "id": "ca51da73",
   "metadata": {},
   "outputs": [
    {
     "data": {
      "text/plain": [
       "[54, 34, 23, 2]"
      ]
     },
     "execution_count": 262,
     "metadata": {},
     "output_type": "execute_result"
    }
   ],
   "source": [
    "[2,23,34,54][::-1]\n",
    "#this reverses the list"
   ]
  },
  {
   "cell_type": "code",
   "execution_count": 270,
   "id": "6a7a363d",
   "metadata": {},
   "outputs": [],
   "source": [
    "x = 10\n",
    "\n",
    "def func(x):\n",
    "    return 23/5\n",
    "\n"
   ]
  },
  {
   "cell_type": "code",
   "execution_count": 273,
   "id": "a9288ee7",
   "metadata": {},
   "outputs": [
    {
     "name": "stdout",
     "output_type": "stream",
     "text": [
      "A\n",
      "B\n",
      "C\n",
      "D\n"
     ]
    }
   ],
   "source": [
    "x = 'abcd'\n",
    "for i in x:\n",
    "    print(i.upper())"
   ]
  },
  {
   "cell_type": "code",
   "execution_count": null,
   "id": "853b5a07",
   "metadata": {},
   "outputs": [],
   "source": []
  }
 ],
 "metadata": {
  "kernelspec": {
   "display_name": "Python 3",
   "language": "python",
   "name": "python3"
  },
  "language_info": {
   "codemirror_mode": {
    "name": "ipython",
    "version": 3
   },
   "file_extension": ".py",
   "mimetype": "text/x-python",
   "name": "python",
   "nbconvert_exporter": "python",
   "pygments_lexer": "ipython3",
   "version": "3.8.8"
  }
 },
 "nbformat": 4,
 "nbformat_minor": 5
}
